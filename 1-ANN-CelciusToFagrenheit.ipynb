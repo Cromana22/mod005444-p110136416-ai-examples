{
  "cells": [
    {
      "cell_type": "markdown",
      "metadata": {
        "colab_type": "text",
        "id": "view-in-github"
      },
      "source": [
        "<a href=\"https://colab.research.google.com/github/raegar/AIProgramming2019/blob/master/Workbook_Celsius_to_Fahrenheit.ipynb\" target=\"_parent\"><img src=\"https://colab.research.google.com/assets/colab-badge.svg\" alt=\"Open In Colab\"/></a>"
      ]
    },
    {
      "cell_type": "markdown",
      "metadata": {
        "colab_type": "text",
        "id": "F8YVA_634OFk"
      },
      "source": [
        "The problem we will solve is to convert from Celsius to Fahrenheit, where the approximate formula is:\n",
        "\n",
        "$$ f = c \\times 1.8 + 32 $$"
      ]
    },
    {
      "cell_type": "markdown",
      "metadata": {},
      "source": [
        "Import TensorFlow to make the AI"
      ]
    },
    {
      "cell_type": "code",
      "execution_count": 1,
      "metadata": {
        "colab": {},
        "colab_type": "code",
        "id": "X9uIpOS2zx7k"
      },
      "outputs": [],
      "source": [
        "from __future__ import absolute_import, division, print_function, unicode_literals\n",
        "import tensorflow as tf"
      ]
    },
    {
      "cell_type": "markdown",
      "metadata": {
        "colab_type": "text",
        "id": "ad97TigPJM_q"
      },
      "source": [
        "Numpy helps us to represent our data as highly performant lists."
      ]
    },
    {
      "cell_type": "code",
      "execution_count": 2,
      "metadata": {
        "colab": {},
        "colab_type": "code",
        "id": "y_WQEM5MGmg3"
      },
      "outputs": [],
      "source": [
        "import numpy as np"
      ]
    },
    {
      "cell_type": "markdown",
      "metadata": {
        "colab_type": "text",
        "id": "AC3EQFi20buB"
      },
      "source": [
        "Set up training data"
      ]
    },
    {
      "cell_type": "code",
      "execution_count": 3,
      "metadata": {
        "colab": {},
        "colab_type": "code",
        "id": "gg4pn6aI1vms"
      },
      "outputs": [
        {
          "name": "stdout",
          "output_type": "stream",
          "text": [
            "-40.0 degrees Celcius = -40.0 degrees Fahrenheit\n",
            "-10.0 degrees Celcius = 14.0 degrees Fahrenheit\n",
            "0.0 degrees Celcius = 32.0 degrees Fahrenheit\n",
            "8.0 degrees Celcius = 46.0 degrees Fahrenheit\n",
            "15.0 degrees Celcius = 59.0 degrees Fahrenheit\n",
            "22.0 degrees Celcius = 72.0 degrees Fahrenheit\n",
            "38.0 degrees Celcius = 100.0 degrees Fahrenheit\n"
          ]
        }
      ],
      "source": [
        "celcius_q = np.array([-40, -10, 0, 8, 15, 22, 38], dtype=float)\n",
        "fahrenheit_a = np.array([-40, 14, 32, 46, 59, 72, 100], dtype=float)\n",
        "\n",
        "for i, c in enumerate(celcius_q):\n",
        "  print(\"{} degrees Celcius = {} degrees Fahrenheit\".format(c, fahrenheit_a[i]))"
      ]
    },
    {
      "cell_type": "markdown",
      "metadata": {
        "colab_type": "text",
        "id": "wwJGmDrQ0EoB"
      },
      "source": [
        " - **Feature** — The input(s) to our model. In this case, a single value — the degrees in Celsius.\n",
        "\n",
        " - **Labels** — The output our model predicts. In this case, a single value — the degrees in Fahrenheit.\n",
        "\n",
        " - **Example** — A pair of inputs/outputs used during training. In our case a pair of values from `celsius_q` and `fahrenheit_a` at a specific index, such as `(22,72)`."
      ]
    },
    {
      "cell_type": "markdown",
      "metadata": {
        "colab_type": "text",
        "id": "VM7_9Klvq7MO"
      },
      "source": [
        "Simplest model is a Dense network. Since the problem is straightforward, this network will require only a single layer, with a single neuron.\n",
        "\n",
        "We'll call the layer `l0` and create it by instantiating `tf.keras.layers.Dense` with the following configuration:\n",
        "\n",
        "*   `input_shape=[1]` — This specifies that the input to this layer is a single value. That is, the shape is a one-dimensional array with one member. Since this is the first (and only) layer, that input shape is the input shape of the entire model. The single value is a floating point number, representing degrees Celsius.\n",
        "\n",
        "*   `units=1` — This specifies the number of neurons in the layer. The number of neurons defines how many internal variables the layer has to try to learn how to solve the problem (more later). Since this is the final layer, it is also the size of the model's output — a single float value representing degrees Fahrenheit. (In a multi-layered network, the size and shape of the layer would need to match the `input_shape` of the next layer.)\n",
        "\n",
        "Further layers would only need the units/output value as it will inherit the input_shape from the previous layer."
      ]
    },
    {
      "cell_type": "code",
      "execution_count": 4,
      "metadata": {
        "colab": {},
        "colab_type": "code",
        "id": "pRllo2HLfXiu"
      },
      "outputs": [],
      "source": [
        "#todo part 1\n",
        "l0 = tf.keras.layers.Dense(units=1, input_shape=[1])"
      ]
    },
    {
      "cell_type": "markdown",
      "metadata": {
        "colab_type": "text",
        "id": "_F00_J9duLBD"
      },
      "source": [
        "Once layers are defined, they need to be assembled into a model. The Sequential model definition takes a list of layers as argument, specifying the calculation order from the input to the output."
      ]
    },
    {
      "cell_type": "code",
      "execution_count": 5,
      "metadata": {
        "colab": {},
        "colab_type": "code",
        "id": "cSp-GpLSuMRq"
      },
      "outputs": [],
      "source": [
        "#todo part 2\n",
        "model = tf.keras.Sequential([l0])"
      ]
    },
    {
      "cell_type": "markdown",
      "metadata": {
        "colab_type": "text",
        "id": "kiZG7uhm8qCF"
      },
      "source": [
        "Before training, the model has to be compiled. When compiled for training, the model is given:\n",
        "\n",
        "- **Loss function** — A way of measuring how far off predictions are from the desired outcome. (The measured difference is called the \"loss\".)\n",
        "\n",
        "- **Optimizer function** — A way of adjusting internal values in order to reduce the loss.\n",
        "\n",
        "The loss function ([mean squared error](https://en.wikipedia.org/wiki/Mean_squared_error)) and the optimizer ([Adam](https://machinelearningmastery.com/adam-optimization-algorithm-for-deep-learning/)) used here are standard for simple models.\n",
        "\n",
        "The learning rate (`0.7` in the code above) is the step size taken when adjusting values in the model. If the value is too small, it will take too many iterations to train the model. Too large, and accuracy goes down. Finding a good value often involves some trial and error, but the range is usually within 0.001 (default), and 0.1"
      ]
    },
    {
      "cell_type": "code",
      "execution_count": 6,
      "metadata": {
        "colab": {},
        "colab_type": "code",
        "id": "m8YQN1H41L-Y"
      },
      "outputs": [],
      "source": [
        "#todo part 3\n",
        "model.compile(loss='mean_squared_error', optimizer=tf.keras.optimizers.Adam(0.7))"
      ]
    },
    {
      "cell_type": "markdown",
      "metadata": {
        "colab_type": "text",
        "id": "c-Jk4dG91dvD"
      },
      "source": [
        "Train the model by calling the `fit` method.\n",
        "\n",
        "The first argument is the inputs, the second argument is the desired outputs. The `epochs` argument specifies how many times this cycle should be run, and the `verbose` argument controls how much output the method produces."
      ]
    },
    {
      "cell_type": "code",
      "execution_count": 7,
      "metadata": {
        "colab": {},
        "colab_type": "code",
        "id": "lpRrl7WK10Pq"
      },
      "outputs": [
        {
          "name": "stdout",
          "output_type": "stream",
          "text": [
            "Finished training model\n"
          ]
        }
      ],
      "source": [
        "#todo part 4\n",
        "history = model.fit(celcius_q, fahrenheit_a, epochs=100, verbose=False)\n",
        "print(\"Finished training model\")"
      ]
    },
    {
      "cell_type": "markdown",
      "metadata": {
        "colab_type": "text",
        "id": "0-QsNCLD4MJZ"
      },
      "source": [
        "The `fit` method returns a history object. We can use this object to plot how the loss of our model goes down after each training epoch. A high loss means that the predicted output is far from the expected output.\n",
        "\n",
        "We'll use [Matplotlib](https://matplotlib.org/) to visualize this (you could use another tool)."
      ]
    },
    {
      "cell_type": "code",
      "execution_count": 8,
      "metadata": {
        "colab": {},
        "colab_type": "code",
        "id": "IeK6BzfbdO6_"
      },
      "outputs": [
        {
          "data": {
            "text/plain": [
              "[<matplotlib.lines.Line2D at 0x1ce1f0d2fe0>]"
            ]
          },
          "execution_count": 8,
          "metadata": {},
          "output_type": "execute_result"
        },
        {
          "data": {
            "image/png": "[encoded data removed]",
            "text/plain": [
              "<Figure size 640x480 with 1 Axes>"
            ]
          },
          "metadata": {},
          "output_type": "display_data"
        }
      ],
      "source": [
        "import matplotlib.pyplot as plt\n",
        "plt.xlabel('Epoch Number')\n",
        "plt.ylabel('Loss Magnitude')\n",
        "plt.plot(history.history['loss'])"
      ]
    },
    {
      "cell_type": "markdown",
      "metadata": {
        "colab_type": "text",
        "id": "LtQGDMob5LOD"
      },
      "source": [
        "Once a model has been trained, you can use the predict method to throw in a completely new input to use and predict an output.\n",
        "Useful to have test data for this separate from training data."
      ]
    },
    {
      "cell_type": "code",
      "execution_count": 9,
      "metadata": {
        "colab": {},
        "colab_type": "code",
        "id": "oxNzL4lS2Gui"
      },
      "outputs": [
        {
          "name": "stdout",
          "output_type": "stream",
          "text": [
            "1/1 [==============================] - 0s 106ms/step\n",
            "[[211.10823]]\n"
          ]
        }
      ],
      "source": [
        "#todo part 5\n",
        "print(model.predict([100]))"
      ]
    },
    {
      "cell_type": "markdown",
      "metadata": {
        "colab_type": "text",
        "id": "zRrOky5gm20Z"
      },
      "source": [
        "We can look at the internal variables of the Dense layer. The first variable is close to ~1.8 and the second to ~32. These values (1.8 and 32) are the actual variables in the real conversion formula.\n",
        "\n",
        "This is really close to the values in the conversion formula. We'll explain this in an upcoming lesson where we show how a Dense layer works, but for a single neuron with a single input and a single output, the internal math looks the same as [the equation for a line](https://en.wikipedia.org/wiki/Linear_equation#Slope%E2%80%93intercept_form), $y = mx + b$, which has the same form as the conversion equation, $f = 1.8c + 32$."
      ]
    },
    {
      "cell_type": "code",
      "execution_count": 10,
      "metadata": {
        "colab": {},
        "colab_type": "code",
        "id": "kmIkVdkbnZJI"
      },
      "outputs": [
        {
          "name": "stdout",
          "output_type": "stream",
          "text": [
            "These are the layer variables: [array([[1.7884022]], dtype=float32), array([32.268005], dtype=float32)]\n"
          ]
        }
      ],
      "source": [
        "print(\"These are the layer variables: {}\".format(l0.get_weights()))"
      ]
    },
    {
      "cell_type": "markdown",
      "metadata": {
        "colab_type": "text",
        "id": "xrpFFlgYhCty"
      },
      "source": [
        "You can use more layers but when you look at the variables, they are nothing even close to ~1.8 and ~32. The added complexity hides the \"simple\" form of the conversion equation."
      ]
    },
    {
      "cell_type": "code",
      "execution_count": 11,
      "metadata": {
        "colab": {},
        "colab_type": "code",
        "id": "Y2zTA-rDS5Xk"
      },
      "outputs": [
        {
          "name": "stdout",
          "output_type": "stream",
          "text": [
            "Finished Training the Model\n",
            "1/1 [==============================] - 0s 81ms/step\n",
            "[[214.17905]]\n",
            "These are the layer variables: [array([[0.76842934, 0.03888872, 0.40002224, 0.07206604]], dtype=float32), array([ 3.2580242,  6.4784193,  0.4252712, -2.5609267], dtype=float32)]\n",
            "These are the layer variables: [array([[-3.3265605 ,  0.71353894,  0.88070756, -0.5957279 ],\n",
            "       [-1.2823447 , -0.3156078 ,  1.5363295 ,  1.1785398 ],\n",
            "       [ 0.29590455, -2.174594  ,  0.32973328,  1.5481131 ],\n",
            "       [ 0.6000521 ,  0.89632916,  1.9629714 , -0.1892585 ]],\n",
            "      dtype=float32), array([-3.8074067, -4.3947115, -7.410388 , -1.942676 ], dtype=float32)]\n",
            "These are the layer variables: [array([[-0.85882556],\n",
            "       [ 0.09157269],\n",
            "       [-0.22468928],\n",
            "       [-0.140271  ]], dtype=float32), array([12.665945], dtype=float32)]\n"
          ]
        }
      ],
      "source": [
        "l0 = tf.keras.layers.Dense(units=4, input_shape=[1])\n",
        "l1 = tf.keras.layers.Dense(units=4)\n",
        "l2 = tf.keras.layers.Dense(units=1)\n",
        "\n",
        "model = tf.keras.Sequential([l0,l1,l2])\n",
        "model.compile(loss='mean_squared_error', \n",
        "             optimizer=tf.keras.optimizers.Adam(0.7))\n",
        "history = model.fit(celcius_q, fahrenheit_a, epochs=100, verbose=False)\n",
        "print(\"Finished Training the Model\")\n",
        "print(model.predict([100]))\n",
        "print(\"These are the layer variables: {}\".format(l0.get_weights()))\n",
        "print(\"These are the layer variables: {}\".format(l1.get_weights()))\n",
        "print(\"These are the layer variables: {}\".format(l2.get_weights()))"
      ]
    }
  ],
  "metadata": {
    "colab": {
      "collapsed_sections": [],
      "include_colab_link": true,
      "name": "Workbook - Celsius to Fahrenheit.ipynb",
      "private_outputs": true,
      "provenance": [],
      "toc_visible": true
    },
    "kernelspec": {
      "display_name": "Python 3.10.7 ('.venv': venv)",
      "language": "python",
      "name": "python3"
    },
    "language_info": {
      "codemirror_mode": {
        "name": "ipython",
        "version": 3
      },
      "file_extension": ".py",
      "mimetype": "text/x-python",
      "name": "python",
      "nbconvert_exporter": "python",
      "pygments_lexer": "ipython3",
      "version": "3.10.7"
    },
    "vscode": {
      "interpreter": {
        "hash": "14d7d162bca8233f6e49454850c3900d24447a85d14be84c153fe4546ad7816b"
      }
    }
  },
  "nbformat": 4,
  "nbformat_minor": 0
}
